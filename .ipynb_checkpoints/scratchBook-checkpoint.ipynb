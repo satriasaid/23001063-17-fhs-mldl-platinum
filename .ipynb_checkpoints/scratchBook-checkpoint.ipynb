{
 "cells": [
  {
   "cell_type": "code",
   "execution_count": 1,
   "id": "f82771bd-9144-4a0d-a74a-0d6cab489269",
   "metadata": {},
   "outputs": [],
   "source": [
    "import pandas as pd\n",
    "\n",
    "df = pd.read_csv(\"train_preprocess.tsv\", sep='\\t', names=[\"tweet\", \"sentiment\"])\n",
    "df_proc = df.copy()"
   ]
  },
  {
   "cell_type": "code",
   "execution_count": 2,
   "id": "98b643a3-dcd3-4974-9e5d-201e3532db30",
   "metadata": {},
   "outputs": [],
   "source": [
    "df_alay = pd.read_csv(\"external_resource/kbba.txt\", sep='\\t', names=['alay','normal'])\n",
    "df_sw = pd.read_csv(\"external_resource/stopword.txt\", sep='\\t', names=['stopword'])\n",
    "df_neg = pd.read_csv(\"external_resource/negation_combi.txt\", sep='\\t', names=['negate'])\n",
    "\n",
    "alay_list = df_alay['alay'].to_list()\n",
    "normal_list = df_alay['normal'].to_list()\n",
    "sw_list = df_sw['stopword'].to_list()\n",
    "neg_list = df_neg['negate'].to_list()"
   ]
  },
  {
   "cell_type": "code",
   "execution_count": 3,
   "id": "cef6d0a8-91b9-4829-905d-c847dc3f2776",
   "metadata": {},
   "outputs": [],
   "source": [
    "def txt_dealay(datafr):\n",
    "    data = datafr.str.lower()\n",
    "    for i in range(len(alay_list)):\n",
    "        normal = data.replace(r'\\b'+ alay_list[i] + r'\\b',normal_list[i],regex=True).astype('str')\n",
    "        i += 1\n",
    "        data = normal\n",
    "    return data\n",
    "\n",
    "def txt_sw(datafr):\n",
    "    data = datafr.str.lower()\n",
    "    for i in range(len(sw_list)):\n",
    "        normal = data.replace(r'\\b'+ sw_list[i] + r'\\b','',regex=True).astype('str')\n",
    "        i += 1\n",
    "        data = normal\n",
    "    return data"
   ]
  },
  {
   "cell_type": "code",
   "execution_count": 4,
   "id": "c726f6f1-05fb-450f-8bb0-526b50012e00",
   "metadata": {},
   "outputs": [],
   "source": [
    "import re\n",
    "\n",
    "def cleansing(sent):\n",
    "  string = sent.lower()\n",
    "  string = re.sub(r'[^a-zA-Z0-9]',' ',string)\n",
    "  string = re.sub(r'(\\\\x\\S+)',' ',string)\n",
    "  string = re.sub(r'((\\s{2}))',' ',string)\n",
    "  string = re.sub(r'(\\\\n)',' ',string)\n",
    "  string = re.sub(r'(?:RT\\W+)',' ',string)\n",
    "  string = re.sub(r'(?:USER\\W+)',' ',string)\n",
    "  string = re.sub(r'(?:USER)',' ',string)\n",
    "  string = re.sub(r'(?:https:)\\S+',' ',string)\n",
    "  string = re.sub(r'(?:http)\\S+',' ',string)\n",
    "  string = re.sub(r'(?:https)\\S+',' ',string)\n",
    "  string = re.sub(r'(?:URL)',' ',string)\n",
    "  string = re.sub(r'[^0-9A-Za-z]',' ',string)\n",
    "  string = string.strip(' ')\n",
    "  string = re.sub(r'\\s+',' ',string)\n",
    "\n",
    "  return string"
   ]
  },
  {
   "cell_type": "code",
   "execution_count": 5,
   "id": "544e3d59-5466-40a9-a1af-fd02bb55fc2a",
   "metadata": {},
   "outputs": [],
   "source": [
    "df_proc['norm'] = txt_dealay(df_proc['tweet'])\n",
    "df_proc['norm'] = txt_sw(df_proc['norm'])\n",
    "df_proc['norm'] = df_proc['norm'].apply(cleansing)"
   ]
  },
  {
   "cell_type": "code",
   "execution_count": 6,
   "id": "02ffbdd5-031b-40e5-b0e6-1029b94a7689",
   "metadata": {},
   "outputs": [],
   "source": [
    "neg = df_proc[df_proc.sentiment == 'negative'].tweet.to_list()\n",
    "neu = df_proc[df_proc.sentiment == 'neutral'].tweet.to_list()\n",
    "pos = df_proc[df_proc.sentiment == 'positive'].tweet.to_list()\n",
    "\n",
    "neg_sent = df_proc[df_proc.sentiment == 'negative'].sentiment.to_list()\n",
    "neu_sent = df_proc[df_proc.sentiment == 'neutral'].sentiment.to_list()\n",
    "pos_sent = df_proc[df_proc.sentiment == 'positive'].sentiment.to_list()"
   ]
  },
  {
   "cell_type": "code",
   "execution_count": 7,
   "id": "707d2d9f-6779-4c43-93ab-633652d43c96",
   "metadata": {},
   "outputs": [
    {
     "name": "stdout",
     "output_type": "stream",
     "text": [
      "Pos: 6416, Neu: 1148, Neg: 3436\n",
      "Total Data: 11000\n"
     ]
    }
   ],
   "source": [
    "total_data = neg + neu + pos\n",
    "sentiments = neg_sent + neu_sent + pos_sent\n",
    "\n",
    "print(\"Pos: %s, Neu: %s, Neg: %s\" %(len(pos), len(neu), len(neg)))\n",
    "print(\"Total Data: %s\" % len(total_data))"
   ]
  },
  {
   "cell_type": "code",
   "execution_count": 8,
   "id": "20b66c34-f7c3-4190-98c5-55cd7b8451ad",
   "metadata": {},
   "outputs": [
    {
     "name": "stdout",
     "output_type": "stream",
     "text": [
      "WARNING:tensorflow:From C:\\Users\\Satria (Personal)\\Documents\\Notebooks\\pltpy310\\lib\\site-packages\\keras\\src\\losses.py:2976: The name tf.losses.sparse_softmax_cross_entropy is deprecated. Please use tf.compat.v1.losses.sparse_softmax_cross_entropy instead.\n",
      "\n",
      "tokenizer.pickle is created!\n",
      "x_pad_sequences.pickle is created!\n"
     ]
    }
   ],
   "source": [
    "import pickle\n",
    "from tensorflow.keras.preprocessing.text import Tokenizer\n",
    "from tensorflow.keras.preprocessing.sequence import pad_sequences\n",
    "from collections import defaultdict\n",
    "\n",
    "max_features = 100000\n",
    "tokenizer = Tokenizer(num_words=max_features, split=' ', lower=True)\n",
    "tokenizer.fit_on_texts(total_data)\n",
    "with open('tokenizer.pickle', 'wb') as handle:\n",
    "  pickle.dump(tokenizer, handle, protocol=pickle.HIGHEST_PROTOCOL)\n",
    "  print(\"tokenizer.pickle is created!\")\n",
    "\n",
    "X = tokenizer.texts_to_sequences(total_data)\n",
    "\n",
    "vocab_size = len(tokenizer.word_index)\n",
    "maxlen = max(len(x) for x in X)\n",
    "\n",
    "X = pad_sequences(X)\n",
    "with open('x_pad_sequences.pickle', 'wb') as handle:\n",
    "  pickle.dump(X, handle, protocol=pickle.HIGHEST_PROTOCOL)\n",
    "  print(\"x_pad_sequences.pickle is created!\")"
   ]
  },
  {
   "cell_type": "code",
   "execution_count": 9,
   "id": "4f3289c6-c79d-4493-baea-8e4b19be3d24",
   "metadata": {},
   "outputs": [
    {
     "name": "stdout",
     "output_type": "stream",
     "text": [
      "y_sentiments.pickle is created!\n"
     ]
    }
   ],
   "source": [
    "Y = pd.get_dummies(sentiments)\n",
    "Y = Y.values\n",
    "\n",
    "with open('y_sentiments.pickle','wb') as handle:\n",
    "  pickle.dump(Y, handle, protocol=pickle.HIGHEST_PROTOCOL)\n",
    "  print(\"y_sentiments.pickle is created!\")"
   ]
  },
  {
   "cell_type": "code",
   "execution_count": 10,
   "id": "5bf29b01-3153-43dc-8bad-6d65688662b9",
   "metadata": {},
   "outputs": [],
   "source": [
    "from sklearn.model_selection import train_test_split\n",
    "\n",
    "file = open(\"x_pad_sequences.pickle\",'rb')\n",
    "X = pickle.load(file)\n",
    "file.close()\n",
    "\n",
    "file = open(\"y_sentiments.pickle\",\"rb\")\n",
    "Y = pickle.load(file)\n",
    "file.close()\n",
    "\n",
    "X_train, X_test, y_train, y_test = train_test_split(X, Y, test_size=0.2, random_state=1)"
   ]
  },
  {
   "cell_type": "code",
   "execution_count": 11,
   "id": "98f8ed9c-02a4-41ff-990d-26fcd44363bf",
   "metadata": {},
   "outputs": [],
   "source": [
    "#training dengan LSTM\n",
    "\n",
    "import numpy as np\n",
    "from tensorflow.keras import layers\n",
    "from tensorflow.keras.models import Sequential\n",
    "from tensorflow.keras.layers import Dense, Embedding, LSTM, SpatialDropout1D, SimpleRNN, Activation\n",
    "from tensorflow.keras import optimizers\n",
    "from tensorflow.keras.callbacks import EarlyStopping, TensorBoard\n",
    "from tensorflow.keras.layers import Flatten\n",
    "from tensorflow.keras import backend as K"
   ]
  },
  {
   "cell_type": "code",
   "execution_count": 12,
   "id": "f0eb088e-8834-4a18-a034-062dc9395a05",
   "metadata": {},
   "outputs": [
    {
     "name": "stdout",
     "output_type": "stream",
     "text": [
      "WARNING:tensorflow:From C:\\Users\\Satria (Personal)\\Documents\\Notebooks\\pltpy310\\lib\\site-packages\\keras\\src\\backend.py:873: The name tf.get_default_graph is deprecated. Please use tf.compat.v1.get_default_graph instead.\n",
      "\n",
      "WARNING:tensorflow:From C:\\Users\\Satria (Personal)\\Documents\\Notebooks\\pltpy310\\lib\\site-packages\\keras\\src\\optimizers\\__init__.py:309: The name tf.train.Optimizer is deprecated. Please use tf.compat.v1.train.Optimizer instead.\n",
      "\n",
      "Model: \"sequential\"\n",
      "_________________________________________________________________\n",
      " Layer (type)                Output Shape              Param #   \n",
      "=================================================================\n",
      " embedding (Embedding)       (None, 96, 100)           10000000  \n",
      "                                                                 \n",
      " lstm (LSTM)                 (None, 64)                42240     \n",
      "                                                                 \n",
      " dense (Dense)               (None, 3)                 195       \n",
      "                                                                 \n",
      "=================================================================\n",
      "Total params: 10042435 (38.31 MB)\n",
      "Trainable params: 10042435 (38.31 MB)\n",
      "Non-trainable params: 0 (0.00 Byte)\n",
      "_________________________________________________________________\n"
     ]
    },
    {
     "name": "stderr",
     "output_type": "stream",
     "text": [
      "WARNING:absl:`lr` is deprecated in Keras optimizer, please use `learning_rate` or use the legacy optimizer, e.g.,tf.keras.optimizers.legacy.Adam.\n"
     ]
    },
    {
     "name": "stdout",
     "output_type": "stream",
     "text": [
      "None\n",
      "Epoch 1/10\n",
      "WARNING:tensorflow:From C:\\Users\\Satria (Personal)\\Documents\\Notebooks\\pltpy310\\lib\\site-packages\\keras\\src\\utils\\tf_utils.py:492: The name tf.ragged.RaggedTensorValue is deprecated. Please use tf.compat.v1.ragged.RaggedTensorValue instead.\n",
      "\n"
     ]
    },
    {
     "name": "stderr",
     "output_type": "stream",
     "text": [
      "WARNING:tensorflow:From C:\\Users\\Satria (Personal)\\Documents\\Notebooks\\pltpy310\\lib\\site-packages\\keras\\src\\utils\\tf_utils.py:492: The name tf.ragged.RaggedTensorValue is deprecated. Please use tf.compat.v1.ragged.RaggedTensorValue instead.\n",
      "\n"
     ]
    },
    {
     "name": "stdout",
     "output_type": "stream",
     "text": [
      "WARNING:tensorflow:From C:\\Users\\Satria (Personal)\\Documents\\Notebooks\\pltpy310\\lib\\site-packages\\keras\\src\\engine\\base_layer_utils.py:384: The name tf.executing_eagerly_outside_functions is deprecated. Please use tf.compat.v1.executing_eagerly_outside_functions instead.\n",
      "\n"
     ]
    },
    {
     "name": "stderr",
     "output_type": "stream",
     "text": [
      "WARNING:tensorflow:From C:\\Users\\Satria (Personal)\\Documents\\Notebooks\\pltpy310\\lib\\site-packages\\keras\\src\\engine\\base_layer_utils.py:384: The name tf.executing_eagerly_outside_functions is deprecated. Please use tf.compat.v1.executing_eagerly_outside_functions instead.\n",
      "\n"
     ]
    },
    {
     "name": "stdout",
     "output_type": "stream",
     "text": [
      "880/880 [==============================] - 97s 104ms/step - loss: 0.4586 - accuracy: 0.8169 - val_loss: 0.3466 - val_accuracy: 0.8723\n",
      "Epoch 2/10\n",
      "880/880 [==============================] - 90s 102ms/step - loss: 0.2019 - accuracy: 0.9248 - val_loss: 0.3514 - val_accuracy: 0.8668\n",
      "Epoch 2: early stopping\n"
     ]
    }
   ],
   "source": [
    "embed_dim = 100\n",
    "units = 64\n",
    "\n",
    "model = Sequential()\n",
    "model.add(Embedding(max_features, embed_dim, input_length=X.shape[1]))\n",
    "model.add(LSTM(units, dropout=0.2))\n",
    "model.add(Dense(3,activation='softmax'))\n",
    "model.compile(loss = 'binary_crossentropy', optimizer = 'adam', metrics = ['accuracy'])\n",
    "print(model.summary())\n",
    "\n",
    "adam = optimizers.Adam(lr = 0.001)\n",
    "model.compile(loss = 'categorical_crossentropy', optimizer = adam, metrics = ['accuracy'])\n",
    "\n",
    "es = EarlyStopping(monitor='val_loss', mode='min', verbose=1)\n",
    "history = model.fit(X_train, y_train, epochs=10, batch_size=10, validation_data=(X_test, y_test), verbose=1, callbacks=[es])"
   ]
  },
  {
   "cell_type": "code",
   "execution_count": 13,
   "id": "32c677d6-aafd-40d0-be0d-96b9f41c40b0",
   "metadata": {},
   "outputs": [
    {
     "name": "stdout",
     "output_type": "stream",
     "text": [
      "69/69 [==============================] - 3s 25ms/step\n",
      "Testing Selesai\n",
      "              precision    recall  f1-score   support\n",
      "\n",
      "           0       0.83      0.78      0.81       704\n",
      "           1       0.82      0.79      0.80       222\n",
      "           2       0.89      0.93      0.91      1274\n",
      "\n",
      "    accuracy                           0.87      2200\n",
      "   macro avg       0.85      0.83      0.84      2200\n",
      "weighted avg       0.87      0.87      0.87      2200\n",
      "\n"
     ]
    }
   ],
   "source": [
    "from sklearn import metrics\n",
    "\n",
    "predictions = model.predict(X_test)\n",
    "y_pred = predictions\n",
    "matrix_test = metrics.classification_report(y_test.argmax(axis=1), y_pred.argmax(axis=1))\n",
    "print(\"Testing Selesai\")\n",
    "print(matrix_test)"
   ]
  },
  {
   "cell_type": "code",
   "execution_count": 14,
   "id": "08840dfc-2f2f-44f6-9db2-328d60f799d2",
   "metadata": {},
   "outputs": [
    {
     "name": "stdout",
     "output_type": "stream",
     "text": [
      "69/69 [==============================] - 2s 21ms/step\n",
      "Training ke- 1\n",
      "              precision    recall  f1-score   support\n",
      "\n",
      "           0       0.81      0.81      0.81       704\n",
      "           1       0.86      0.73      0.79       222\n",
      "           2       0.90      0.92      0.91      1274\n",
      "\n",
      "    accuracy                           0.87      2200\n",
      "   macro avg       0.85      0.82      0.84      2200\n",
      "weighted avg       0.86      0.87      0.86      2200\n",
      "\n",
      "===================================================\n",
      "69/69 [==============================] - 3s 25ms/step\n",
      "Training ke- 2\n",
      "              precision    recall  f1-score   support\n",
      "\n",
      "           0       0.82      0.79      0.80       704\n",
      "           1       0.80      0.79      0.79       222\n",
      "           2       0.89      0.91      0.90      1274\n",
      "\n",
      "    accuracy                           0.86      2200\n",
      "   macro avg       0.84      0.83      0.83      2200\n",
      "weighted avg       0.86      0.86      0.86      2200\n",
      "\n",
      "===================================================\n",
      "69/69 [==============================] - 3s 26ms/step\n",
      "Training ke- 3\n",
      "              precision    recall  f1-score   support\n",
      "\n",
      "           0       0.85      0.80      0.82       704\n",
      "           1       0.80      0.80      0.80       222\n",
      "           2       0.90      0.93      0.91      1274\n",
      "\n",
      "    accuracy                           0.87      2200\n",
      "   macro avg       0.85      0.84      0.85      2200\n",
      "weighted avg       0.87      0.87      0.87      2200\n",
      "\n",
      "===================================================\n",
      "69/69 [==============================] - 3s 24ms/step\n",
      "Training ke- 4\n",
      "              precision    recall  f1-score   support\n",
      "\n",
      "           0       0.84      0.76      0.80       704\n",
      "           1       0.80      0.82      0.81       222\n",
      "           2       0.88      0.93      0.90      1274\n",
      "\n",
      "    accuracy                           0.86      2200\n",
      "   macro avg       0.84      0.83      0.84      2200\n",
      "weighted avg       0.86      0.86      0.86      2200\n",
      "\n",
      "===================================================\n",
      "69/69 [==============================] - 3s 25ms/step\n",
      "Training ke- 5\n",
      "              precision    recall  f1-score   support\n",
      "\n",
      "           0       0.79      0.83      0.81       704\n",
      "           1       0.93      0.62      0.74       222\n",
      "           2       0.90      0.92      0.91      1274\n",
      "\n",
      "    accuracy                           0.86      2200\n",
      "   macro avg       0.87      0.79      0.82      2200\n",
      "weighted avg       0.87      0.86      0.86      2200\n",
      "\n",
      "===================================================\n",
      "\n",
      "\n",
      "\n",
      "Rata-rata Accuracy:  0.865\n"
     ]
    }
   ],
   "source": [
    "#proses cross-validation\n",
    "import numpy as np\n",
    "from sklearn.metrics import classification_report\n",
    "from sklearn.metrics import accuracy_score\n",
    "from sklearn.model_selection import KFold\n",
    "\n",
    "kf = KFold(n_splits=5, random_state=42, shuffle=True)\n",
    "\n",
    "accuracies = []\n",
    "\n",
    "y = Y\n",
    "\n",
    "embed_dim = 100\n",
    "units = 64\n",
    "\n",
    "for iteration, data in enumerate(kf.split(X), start=1):\n",
    "  data_train = X[data[0]]\n",
    "  target_train = y[data[0]]\n",
    "\n",
    "  data_test = X[data[1]]\n",
    "  target_test = y[data[1]]\n",
    "\n",
    "  model = Sequential()\n",
    "  model.add(Embedding(max_features, embed_dim, input_length=X.shape[1]))\n",
    "  model.add(LSTM(units, dropout=0.2))\n",
    "  model.add(Dense(3, activation='softmax'))\n",
    "  model.compile(loss = 'binary_crossentropy', optimizer='adam', metrics = ['accuracy'])\n",
    "\n",
    "  adam = optimizers.Adam(learning_rate=0.001)\n",
    "  model.compile(loss = 'categorical_crossentropy', optimizer = adam, metrics = ['accuracy'])\n",
    "\n",
    "  es = EarlyStopping(monitor='val_loss', mode='min', verbose=0)\n",
    "  history = model.fit(X_train, y_train, epochs=10, batch_size=10, validation_data=(X_test, y_test), verbose=0, callbacks=[es])\n",
    "\n",
    "  predictions = model.predict(X_test)\n",
    "  y_pred = predictions\n",
    "  accuracy = accuracy_score(y_test.argmax(axis=1), y_pred.argmax(axis=1))\n",
    "\n",
    "  print(\"Training ke-\", iteration)\n",
    "  print(classification_report(y_test.argmax(axis=1), y_pred.argmax(axis=1)))\n",
    "  print(\"===================================================\")\n",
    "\n",
    "  accuracies.append(accuracy)\n",
    "\n",
    "average_accuracy = np.mean(accuracies)\n",
    "\n",
    "print()\n",
    "print()\n",
    "print()\n",
    "print(\"Rata-rata Accuracy: \", average_accuracy)"
   ]
  },
  {
   "cell_type": "code",
   "execution_count": 15,
   "id": "e7c5018a-6199-4382-b2dc-c7f9b153590a",
   "metadata": {},
   "outputs": [
    {
     "data": {
      "image/png": "[encoded data removed]",
      "text/plain": [
       "<Figure size 1200x500 with 2 Axes>"
      ]
     },
     "metadata": {},
     "output_type": "display_data"
    }
   ],
   "source": [
    "import matplotlib.pyplot as plt\n",
    "plt.style.use('ggplot')\n",
    "\n",
    "def plot_history(history):\n",
    "  acc = history.history['accuracy']\n",
    "  val_acc = history.history['val_accuracy']\n",
    "  loss = history.history['loss']\n",
    "  val_loss = history.history['val_loss']\n",
    "  x = range(1, len(acc) + 1)\n",
    "\n",
    "  plt.figure(figsize=(12,5))\n",
    "  plt.subplot(1,2,1)\n",
    "  plt.plot(x, acc, 'b', label='Training acc')\n",
    "  plt.plot(x, val_acc, 'r', label='Validation acc')\n",
    "  plt.title('Training and Validation Accuracy')\n",
    "  plt.legend()\n",
    "  plt.subplot(1,2,2)\n",
    "  plt.plot(x, loss, 'b', label='Training Loss')\n",
    "  plt.plot(x, val_loss, 'r', label='Validation Loss')\n",
    "  plt.title('Training and Validation Loss')\n",
    "  plt.legend()\n",
    "\n",
    "%matplotlib inline\n",
    "plot_history(history)"
   ]
  },
  {
   "cell_type": "code",
   "execution_count": 16,
   "id": "4e0b0c35-476c-4a18-8a51-5fcb00655794",
   "metadata": {},
   "outputs": [
    {
     "name": "stdout",
     "output_type": "stream",
     "text": [
      "Model in Keras Format is created!\n"
     ]
    }
   ],
   "source": [
    "model.save('model_lstm.keras')\n",
    "print(\"Model in Keras Format is created!\")"
   ]
  },
  {
   "cell_type": "code",
   "execution_count": 17,
   "id": "81b4ba48-4923-4338-bde1-907e1e609e34",
   "metadata": {},
   "outputs": [
    {
     "name": "stderr",
     "output_type": "stream",
     "text": [
      "C:\\Users\\Satria (Personal)\\Documents\\Notebooks\\pltpy310\\lib\\site-packages\\keras\\src\\engine\\training.py:3103: UserWarning: You are saving your model as an HDF5 file via `model.save()`. This file format is considered legacy. We recommend using instead the native Keras format, e.g. `model.save('my_model.keras')`.\n",
      "  saving_api.save_model(\n"
     ]
    },
    {
     "name": "stdout",
     "output_type": "stream",
     "text": [
      "Model is created!\n"
     ]
    }
   ],
   "source": [
    "model.save('model_lstm.h5')\n",
    "print(\"Model is created!\")"
   ]
  },
  {
   "cell_type": "code",
   "execution_count": 23,
   "id": "ae8161d0-2288-47b6-ac16-fcbe0c315fb4",
   "metadata": {},
   "outputs": [
    {
     "name": "stdout",
     "output_type": "stream",
     "text": [
      "1/1 [==============================] - 1s 911ms/step\n",
      "Text:  bersyukur banget aku memiliki uang 271m\n",
      "Sentiment:  positive\n"
     ]
    }
   ],
   "source": [
    "#predict dengan LSTM\n",
    "\n",
    "import re\n",
    "from keras.models import load_model\n",
    "\n",
    "\n",
    "input_text = '''bersyukur banget aku memiliki uang 271M'''\n",
    "\n",
    "sentiment = ['negative', 'neutral', 'positive']\n",
    "\n",
    "text = [cleansing(input_text)]\n",
    "\n",
    "predicted = tokenizer.texts_to_sequences(text)\n",
    "guess = pad_sequences(predicted, maxlen=X.shape[1])\n",
    "\n",
    "model = load_model('model_lstm.keras')\n",
    "prediction = model.predict(guess)\n",
    "polarity = np.argmax(prediction[0])\n",
    "\n",
    "print(\"Text: \", text[0])\n",
    "print(\"Sentiment: \", sentiment[polarity])"
   ]
  },
  {
   "cell_type": "code",
   "execution_count": 37,
   "id": "2a39e9da-7be3-4563-86d8-43893a33095e",
   "metadata": {},
   "outputs": [
    {
     "name": "stdout",
     "output_type": "stream",
     "text": [
      "1/1 [==============================] - 1s 900ms/step\n"
     ]
    },
    {
     "data": {
      "text/html": [
       "<div>\n",
       "<style scoped>\n",
       "    .dataframe tbody tr th:only-of-type {\n",
       "        vertical-align: middle;\n",
       "    }\n",
       "\n",
       "    .dataframe tbody tr th {\n",
       "        vertical-align: top;\n",
       "    }\n",
       "\n",
       "    .dataframe thead th {\n",
       "        text-align: right;\n",
       "    }\n",
       "</style>\n",
       "<table border=\"1\" class=\"dataframe\">\n",
       "  <thead>\n",
       "    <tr style=\"text-align: right;\">\n",
       "      <th></th>\n",
       "      <th>tweet</th>\n",
       "      <th>sentiment</th>\n",
       "      <th>norm</th>\n",
       "    </tr>\n",
       "  </thead>\n",
       "  <tbody>\n",
       "    <tr>\n",
       "      <th>0</th>\n",
       "      <td>anjing memang perilaku elo</td>\n",
       "      <td>negative</td>\n",
       "      <td>anjing memang perilaku elo</td>\n",
       "    </tr>\n",
       "  </tbody>\n",
       "</table>\n",
       "</div>"
      ],
      "text/plain": [
       "                        tweet sentiment                        norm\n",
       "0  anjing memang perilaku elo  negative  anjing memang perilaku elo"
      ]
     },
     "execution_count": 37,
     "metadata": {},
     "output_type": "execute_result"
    }
   ],
   "source": [
    "import re\n",
    "from keras.models import load_model\n",
    "\n",
    "\n",
    "input_text = '''anjing memang perilaku elo'''\n",
    "\n",
    "sentiment = ['negative', 'neutral', 'positive']\n",
    "\n",
    "\n",
    "lstm_list = []\n",
    "lstm_list.append(input_text)\n",
    "lstm_df = pd.DataFrame(lstm_list, columns=['tweet'])\n",
    "#lstm_df['norm'] = txt_dealay(lstm_df['tweet'])\n",
    "#lstm_df['norm'] = txt_sw(lstm_df['norm'])\n",
    "lstm_df['norm'] = lstm_df['tweet'].apply(cleansing)\n",
    "clean_text = lstm_df['norm'][0]]\n",
    "\n",
    "predicted = tokenizer.texts_to_sequences(clean_text)\n",
    "guess = pad_sequences(predicted, maxlen=X.shape[1])\n",
    "\n",
    "model = load_model('model_lstm.keras')\n",
    "prediction = model.predict(guess)\n",
    "polarity = np.argmax(prediction[0])\n",
    "\n",
    "lstm_sentiment = []\n",
    "lstm_sentiment.append(sentiment[polarity])\n",
    "lstm_df['sentiment'] = lstm_sentiment\n",
    "lstm_df[['tweet','sentiment','norm']]"
   ]
  },
  {
   "cell_type": "code",
   "execution_count": 30,
   "id": "9f8a216a-eb84-44e8-a86c-10d3514ca27b",
   "metadata": {},
   "outputs": [],
   "source": [
    "clean_text = lstm_df['norm'][0]"
   ]
  },
  {
   "cell_type": "code",
   "execution_count": 32,
   "id": "21e81d6e-860c-4939-855b-80eabbe1b385",
   "metadata": {},
   "outputs": [
    {
     "data": {
      "text/plain": [
       "str"
      ]
     },
     "execution_count": 32,
     "metadata": {},
     "output_type": "execute_result"
    }
   ],
   "source": [
    "type(clean_text)"
   ]
  },
  {
   "cell_type": "code",
   "execution_count": null,
   "id": "30e250f1-9af2-44e9-a8e6-bb6bb9cdc503",
   "metadata": {},
   "outputs": [],
   "source": []
  }
 ],
 "metadata": {
  "kernelspec": {
   "display_name": "Python 3 (ipykernel)",
   "language": "python",
   "name": "python3"
  },
  "language_info": {
   "codemirror_mode": {
    "name": "ipython",
    "version": 3
   },
   "file_extension": ".py",
   "mimetype": "text/x-python",
   "name": "python",
   "nbconvert_exporter": "python",
   "pygments_lexer": "ipython3",
   "version": "3.10.11"
  }
 },
 "nbformat": 4,
 "nbformat_minor": 5
}
